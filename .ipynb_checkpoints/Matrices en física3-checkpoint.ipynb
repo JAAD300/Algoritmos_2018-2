{
 "cells": [
  {
   "cell_type": "markdown",
   "metadata": {},
   "source": [
    "Muchos modelos en la física, medicina y biología involucran el calculo de matrices e incluso métodos propios de la teoría del análisis numérico requieren del calculo de matrices.\n",
    "\n",
    "Recordemos que una matriz es una arreglo bidimensional de números (reales o complejos)\n",
    "$\\mathbb{K} = \\mathbb{R}$ o $\\mathbb{C}$\n",
    "$${\\displaystyle \\mathbf {A} = {\\begin{bmatrix}a_{11}&a_{12}&\\cdots &a_{1n}\\\\a_{21}&a_{22}&\\cdots &a_{2n}\\\\\\vdots &\\vdots &\\ddots &\\vdots \\\\a_{m1}&a_{m2}&\\cdots &a_{mn}\\\\\\end{bmatrix}}}$$\n",
    "\n",
    "cuyos elementos de la matiz son $a_{i,j}$ con $1 \\leq i \\leq m$ y $1 \\leq j \\leq n$ \n",
    "\n",
    "Al conjunto de las matrices de $m\\times n$ lo denotamos por $\\mathcal{M}_{m\\times n}(\\mathbb{K})$, podemos definir las siguientes opearaciones\n",
    "\n",
    "* $+:\\mathcal{M}_{m\\times n}(\\mathbb{K}) \\times \\mathcal{M}_{m\\times n}(\\mathbb{K}) \\longrightarrow \\mathcal{M}_{m\\times n} (\\mathbb{K})$ tal que $(A,B)\\mapsto C=A+B$, es decir $c_{i,j} = a_{i,j} + b_{i,j}$\n",
    "\n",
    "* $\\mu:\\mathbb{K} \\times \\mathcal{M}_{m\\times n}(\\mathbb{K}) \\longrightarrow \\mathcal{M}_{m\\times n} (\\mathbb{K})$ tal que $(\\lambda,A)\\mapsto B= \\lambda A$, es decir $b_{i,j} = \\lambda a_{i,j}$\n",
    "\n",
    "* Muestre que $\\mathcal{M}_{m\\times n}(\\mathbb{K})$ es un espacio vectorial sobre $\\mathbb{K}$ con la suma y multiplicación escalar definidas "
   ]
  },
  {
   "cell_type": "markdown",
   "metadata": {
    "collapsed": true
   },
   "source": [
    "Muchos problemas de diferentes diciplinas pueden ser formuladas usando matrices, ejemplo de ello es estudiar el espectro vibración de una molécula con $n$ grados de libertad vibracionale. Una primera aproximación es investigar las oscilaciones armónicas del sistema mediante la expansión de la energía potencial hasta el segundo orden de las coordenadas generalizadas alrededor de la estructura de equilibrio.  Entonces tenemos la energía potencial \n",
    "\n",
    "Cuyo problema se traduce a encontrar los valores y vectores propios del siguiente problema\n",
    "\n",
    "$${\\displaystyle {\\begin{bmatrix}a_{11}&a_{12}&\\cdots &a_{1n}\\\\a_{21}&a_{22}&\\cdots &a_{2n}\\\\\\vdots &\\vdots &\\ddots &\\vdots \\\\a_{n1}&a_{n2}&\\cdots &a_{nn}\\\\\\end{bmatrix}}  \n",
    "{\\begin{bmatrix}x_{1} \\\\x_{2}\\\\\\vdots\\\\x_{n}\n",
    "\\\\\\end{bmatrix}}} = \\lambda {\\begin{bmatrix}m_{11}&m_{12}&\\cdots &m_{1n}\\\\m_{21}&m_{22}&\\cdots &m_{2n}\\\\\\vdots &\\vdots &\\ddots &\\vdots \\\\m_{n1}&m_{n2}&\\cdots &m_{nn}\\\\\\end{bmatrix}}  \n",
    "{\\begin{bmatrix}x_{1} \\\\x_{2}\\\\\\vdots\\\\x_{n}\n",
    "\\\\\\end{bmatrix}}$$\n",
    "\n",
    "Es decir $$\\mathbf{Ax} = \\lambda \\mathbf{Mx}$$\n",
    "\n",
    "Por lo que en este notebook daremos una breve introducción a los métodos numérico matriciales de algebra lineal, además de usar una paquetería de algebra lineal de python"
   ]
  },
  {
   "cell_type": "markdown",
   "metadata": {},
   "source": [
    "* ¿Cómo podemos definir una matriz de $n\\times m$ en partícular una matriz de $2\\times 3$? "
   ]
  },
  {
   "cell_type": "code",
   "execution_count": 1,
   "metadata": {
    "collapsed": true
   },
   "outputs": [],
   "source": [
    "M = [[2.0, 4.0, 3.0], [1.0, 5.5, 5.0]]"
   ]
  },
  {
   "cell_type": "code",
   "execution_count": 2,
   "metadata": {},
   "outputs": [
    {
     "data": {
      "text/plain": [
       "5.5"
      ]
     },
     "execution_count": 2,
     "metadata": {},
     "output_type": "execute_result"
    }
   ],
   "source": [
    "M[1][1]"
   ]
  },
  {
   "cell_type": "markdown",
   "metadata": {},
   "source": [
    "Como podemos definir la suma de matrices"
   ]
  },
  {
   "cell_type": "code",
   "execution_count": 3,
   "metadata": {
    "collapsed": true
   },
   "outputs": [],
   "source": [
    "N = [[7.0, 4.5, 5.2], [5.0, 5.4, 6.4]]"
   ]
  },
  {
   "cell_type": "code",
   "execution_count": 4,
   "metadata": {},
   "outputs": [
    {
     "data": {
      "text/plain": [
       "list"
      ]
     },
     "execution_count": 4,
     "metadata": {},
     "output_type": "execute_result"
    }
   ],
   "source": [
    "type(N)"
   ]
  },
  {
   "cell_type": "code",
   "execution_count": 5,
   "metadata": {},
   "outputs": [
    {
     "data": {
      "text/plain": [
       "[[2.0, 4.0, 3.0], [1.0, 5.5, 5.0], [7.0, 4.5, 5.2], [5.0, 5.4, 6.4]]"
      ]
     },
     "execution_count": 5,
     "metadata": {},
     "output_type": "execute_result"
    }
   ],
   "source": [
    "M + N"
   ]
  },
  {
   "cell_type": "code",
   "execution_count": 6,
   "metadata": {},
   "outputs": [
    {
     "data": {
      "text/plain": [
       "[[7.0, 4.5, 5.2],\n",
       " [5.0, 5.4, 6.4],\n",
       " [7.0, 4.5, 5.2],\n",
       " [5.0, 5.4, 6.4],\n",
       " [7.0, 4.5, 5.2],\n",
       " [5.0, 5.4, 6.4],\n",
       " [7.0, 4.5, 5.2],\n",
       " [5.0, 5.4, 6.4]]"
      ]
     },
     "execution_count": 6,
     "metadata": {},
     "output_type": "execute_result"
    }
   ],
   "source": [
    "4*N"
   ]
  },
  {
   "cell_type": "code",
   "execution_count": 7,
   "metadata": {
    "collapsed": true
   },
   "outputs": [],
   "source": [
    "def sumamatrices(x,y):\n",
    "    i = 0\n",
    "    suma = []\n",
    "    while i < len(x):\n",
    "        j=0\n",
    "        renglon = []\n",
    "        while j < len(x[0]):\n",
    "            c = x[i][j] + y[i][j]\n",
    "            renglon.append(c)\n",
    "            j +=1\n",
    "        suma.append(renglon)\n",
    "        i+=1    \n",
    "    return suma"
   ]
  },
  {
   "cell_type": "code",
   "execution_count": 8,
   "metadata": {
    "collapsed": true
   },
   "outputs": [],
   "source": [
    "R=sumamatrices(M, N)"
   ]
  },
  {
   "cell_type": "code",
   "execution_count": 9,
   "metadata": {},
   "outputs": [
    {
     "data": {
      "text/plain": [
       "[[9.0, 8.5, 8.2], [6.0, 10.9, 11.4]]"
      ]
     },
     "execution_count": 9,
     "metadata": {},
     "output_type": "execute_result"
    }
   ],
   "source": [
    "R"
   ]
  },
  {
   "cell_type": "code",
   "execution_count": 10,
   "metadata": {
    "collapsed": true
   },
   "outputs": [],
   "source": [
    "def multiplicacion(l,x):\n",
    "    i=0\n",
    "    multi = []\n",
    "    while i < len(x):\n",
    "        j=0\n",
    "        renglon = []\n",
    "        while j < len(x[0]):\n",
    "            c = l*x[i][j]\n",
    "            renglon.append(c)\n",
    "            j+=1\n",
    "        i+=1\n",
    "        multi.append(renglon)\n",
    "            \n",
    "    return multi"
   ]
  },
  {
   "cell_type": "code",
   "execution_count": 11,
   "metadata": {},
   "outputs": [
    {
     "data": {
      "text/plain": [
       "[[22.5, 21.25, 20.5], [15.0, 27.25, 28.5]]"
      ]
     },
     "execution_count": 11,
     "metadata": {},
     "output_type": "execute_result"
    }
   ],
   "source": [
    "multiplicacion(2.5,R)"
   ]
  },
  {
   "cell_type": "markdown",
   "metadata": {},
   "source": [
    "Vemos que podemos sumar matrices con `numpy`"
   ]
  },
  {
   "cell_type": "code",
   "execution_count": 14,
   "metadata": {},
   "outputs": [
    {
     "ename": "ModuleNotFoundError",
     "evalue": "No module named 'numpy'",
     "output_type": "error",
     "traceback": [
      "\u001b[0;31m---------------------------------------------------------------------------\u001b[0m",
      "\u001b[0;31mModuleNotFoundError\u001b[0m                       Traceback (most recent call last)",
      "\u001b[0;32m<ipython-input-14-0918fd114c37>\u001b[0m in \u001b[0;36m<module>\u001b[0;34m()\u001b[0m\n\u001b[0;32m----> 1\u001b[0;31m \u001b[0;32mimport\u001b[0m \u001b[0mnumpy\u001b[0m\u001b[0;34m\u001b[0m\u001b[0m\n\u001b[0m\u001b[1;32m      2\u001b[0m \u001b[0;31m#from scipy.linalg import *\u001b[0m\u001b[0;34m\u001b[0m\u001b[0;34m\u001b[0m\u001b[0m\n",
      "\u001b[0;31mModuleNotFoundError\u001b[0m: No module named 'numpy'"
     ]
    }
   ],
   "source": [
    "import numpy\n",
    "#from scipy.linalg import *"
   ]
  },
  {
   "cell_type": "markdown",
   "metadata": {},
   "source": [
    "Pero pytho ya tiene una librería de álgebra lineal, `scipy.linalg`"
   ]
  },
  {
   "cell_type": "code",
   "execution_count": null,
   "metadata": {
    "collapsed": true
   },
   "outputs": [],
   "source": [
    "n = matrix(N)\n",
    "m = matrix(M)"
   ]
  },
  {
   "cell_type": "code",
   "execution_count": null,
   "metadata": {
    "collapsed": true
   },
   "outputs": [],
   "source": [
    "n = array(N)\n",
    "m = array(M)"
   ]
  },
  {
   "cell_type": "code",
   "execution_count": null,
   "metadata": {
    "collapsed": true
   },
   "outputs": [],
   "source": [
    "r = n+m"
   ]
  },
  {
   "cell_type": "code",
   "execution_count": null,
   "metadata": {},
   "outputs": [],
   "source": [
    "r"
   ]
  },
  {
   "cell_type": "code",
   "execution_count": null,
   "metadata": {},
   "outputs": [],
   "source": [
    "2.5*r"
   ]
  },
  {
   "cell_type": "markdown",
   "metadata": {},
   "source": [
    "Definamos la multiplición de matrices"
   ]
  },
  {
   "cell_type": "code",
   "execution_count": null,
   "metadata": {
    "collapsed": true
   },
   "outputs": [],
   "source": [
    "S = [[5, 1.5, 5], [6.0, 3.5, 0]]"
   ]
  },
  {
   "cell_type": "code",
   "execution_count": null,
   "metadata": {
    "collapsed": true
   },
   "outputs": [],
   "source": [
    "T = [[ 5, 5, 1, 1], [6.0, 3.5, 0, 1], [0, 1, 0, 1]]"
   ]
  },
  {
   "cell_type": "code",
   "execution_count": null,
   "metadata": {
    "collapsed": true
   },
   "outputs": [],
   "source": [
    "s, t = matrix(S), matrix(T)"
   ]
  },
  {
   "cell_type": "code",
   "execution_count": null,
   "metadata": {},
   "outputs": [],
   "source": [
    "s*t"
   ]
  },
  {
   "cell_type": "code",
   "execution_count": null,
   "metadata": {
    "collapsed": true
   },
   "outputs": [],
   "source": [
    "def product(x,y):\n",
    "    i=0\n",
    "    prod = []\n",
    "    while i < len(x):\n",
    "        j =0\n",
    "        renglon = []\n",
    "        while j < len(y[0]):\n",
    "            k = 0\n",
    "            c = 0\n",
    "            while k < len(y):\n",
    "                aux = x[i][k] * y[k][j]\n",
    "                c = c + aux\n",
    "                k +=1\n",
    "            renglon.append(c)\n",
    "            j +=1\n",
    "        prod.append(renglon)\n",
    "        i +=1\n",
    "    return prod    "
   ]
  },
  {
   "cell_type": "code",
   "execution_count": null,
   "metadata": {},
   "outputs": [],
   "source": [
    "product(S,T)"
   ]
  },
  {
   "cell_type": "markdown",
   "metadata": {},
   "source": [
    "De una matriz podemos calcular su determinante"
   ]
  },
  {
   "cell_type": "markdown",
   "metadata": {},
   "source": [
    "Otra aplicación inmediata de matrices es resolver sistemas de ecuaciones, por ejemplo:\n",
    "\n",
    "\\begin{align}\n",
    "a_{11}x_{1} + a_{12}x_2 + \\cdots + a_{1n}x_{n} &= b_1 \\\\\n",
    "a_{21}x_{1} + a_{22}x_2 + \\cdots + a_{2n}x_{n} &= b_2 \\\\\n",
    " \\vdots \\\\\n",
    "a_{m1}x_{1} + a_{m2}x_2 + \\cdots + a_{mn}x_{n} &= b_m\n",
    "\\end{align}\n",
    "\n",
    "donde $x_i$ son la incoignitas, $a_{ij}$ y $b_i$ son constantes\n",
    "\n",
    "De nuestro curso de álgebra sabemos que tenemos tres posibilidades\n",
    "\n",
    "* La solución es única. Esto es existe un y sólo un conjunto de valores que satisface el sistema\n",
    "* No tiene solución. No existe un conjunto de $x$ talque satisfaga el sistema.\n",
    "* Se tiene un infinidad de solucines. El conjunto de $x$ que satisface el sistema es infinito\n",
    "\n",
    "El sistema anterior lo podemos escribir como:\n",
    "\n",
    "$${\\displaystyle {\\begin{bmatrix}a_{11}&a_{12}&\\cdots &a_{1n}\\\\a_{21}&a_{22}&\\cdots &a_{2n}\\\\\\vdots &\\vdots &\\ddots &\\vdots \\\\a_{n1}&a_{n2}&\\cdots &a_{nn}\\\\\\end{bmatrix}}  \n",
    "{\\begin{bmatrix}x_{1} \\\\x_{2}\\\\\\vdots\\\\x_{n}\n",
    "\\\\\\end{bmatrix}}} =   {\\begin{bmatrix}b_{1} \\\\b_{2}\\\\\\vdots\\\\b_{n}\n",
    "\\\\\\end{bmatrix}}$$\n",
    "\n",
    "Esto se puede escribir como $\\mathbf{A} \\mathbf{x} = \\mathbf{b}$, con $\\mathbf{A} \\in \\mathcal{M}_{nm}(\\mathbb{K})$. Sabemos que para la solución sea única se debe cumplir que $n=m$ y además $\\mathbf{A}$ debe ser invertible y así obtener $\\mathbf{A}^{-1}\\mathbf{A} \\mathbf{x} = \\mathbf{A}^{-1}\\mathbf{b} \\Longrightarrow  \\mathbf{x} = \\mathbf{A}^{-1}\\mathbf{b} = \\mathbf{B} $"
   ]
  },
  {
   "cell_type": "markdown",
   "metadata": {},
   "source": [
    "Para resolver este problema hay mucha teoría de análisis numérico, pero ahora daremos un enorme paso y usaremos las paquetería de python ya implementadas, pero sería muy importamte que el estudiante apele a su invaluable curiosidad e investigue detalladamente la parte formal de cada uno de los métodos, un texto que le podría ayudar es *\"Matrix Analsys and Applied Linear Algebra\"* de **Carl D. Meyer**\n",
    "\n",
    "Ahora importemos `scipy.linalg`"
   ]
  },
  {
   "cell_type": "code",
   "execution_count": null,
   "metadata": {
    "collapsed": true
   },
   "outputs": [],
   "source": [
    "from scipy.linalg import *"
   ]
  },
  {
   "cell_type": "markdown",
   "metadata": {},
   "source": [
    "Y consideremos el siguiente ejemplo \n",
    "\n",
    "\\begin{align}\n",
    "3x + 2y + z & = 39  \\\\\n",
    "2x + 3y + z & = 34  \\\\\n",
    "x + 2y + 3z & = 26\n",
    "\\end{align}\n",
    "\n",
    "Cuya matriz asociada es"
   ]
  },
  {
   "cell_type": "code",
   "execution_count": null,
   "metadata": {
    "collapsed": true
   },
   "outputs": [],
   "source": [
    "a = array([[3., 2., 1.], [2., 3., 1.], [1., 2., 3.]])"
   ]
  },
  {
   "cell_type": "code",
   "execution_count": null,
   "metadata": {},
   "outputs": [],
   "source": [
    "a"
   ]
  },
  {
   "cell_type": "markdown",
   "metadata": {},
   "source": [
    "Calculemos su inversa, sabemos que una matriz tiene inversa si el determinante es distinto de cero, entonces calculemos el determinante de $\\mathbf{A}$ y para ello usamos la función `det(A)`"
   ]
  },
  {
   "cell_type": "code",
   "execution_count": null,
   "metadata": {},
   "outputs": [],
   "source": [
    "det(a)"
   ]
  },
  {
   "cell_type": "markdown",
   "metadata": {},
   "source": [
    "Como el determinante de la matriz no es cero podemos calcular su inversa, `scipy` cuenta con una función llamada `inv()` que calcula la inversa de dicha matriz"
   ]
  },
  {
   "cell_type": "code",
   "execution_count": null,
   "metadata": {
    "collapsed": true
   },
   "outputs": [],
   "source": [
    "ainv = inv(a)"
   ]
  },
  {
   "cell_type": "markdown",
   "metadata": {},
   "source": [
    "Veamos si efectivamente esta es la inversa "
   ]
  },
  {
   "cell_type": "code",
   "execution_count": null,
   "metadata": {},
   "outputs": [],
   "source": [
    "dot(a,ainv)"
   ]
  },
  {
   "cell_type": "code",
   "execution_count": null,
   "metadata": {},
   "outputs": [],
   "source": [
    "product(a,ainv)"
   ]
  },
  {
   "cell_type": "markdown",
   "metadata": {},
   "source": [
    "Ahora definamos el vector $\\mathbf{b}$"
   ]
  },
  {
   "cell_type": "code",
   "execution_count": null,
   "metadata": {
    "collapsed": true
   },
   "outputs": [],
   "source": [
    "b = array([39., 34., 26.])"
   ]
  },
  {
   "cell_type": "code",
   "execution_count": null,
   "metadata": {},
   "outputs": [],
   "source": [
    "dot(ainv, b)"
   ]
  },
  {
   "cell_type": "markdown",
   "metadata": {},
   "source": [
    "Ahora probemos la función `solve`"
   ]
  },
  {
   "cell_type": "code",
   "execution_count": null,
   "metadata": {},
   "outputs": [],
   "source": [
    "solve(a,b)"
   ]
  },
  {
   "cell_type": "code",
   "execution_count": null,
   "metadata": {
    "collapsed": true
   },
   "outputs": [],
   "source": []
  }
 ],
 "metadata": {
  "kernelspec": {
   "display_name": "Python 3",
   "language": "python",
   "name": "python3"
  },
  "language_info": {
   "codemirror_mode": {
    "name": "ipython",
    "version": 3
   },
   "file_extension": ".py",
   "mimetype": "text/x-python",
   "name": "python",
   "nbconvert_exporter": "python",
   "pygments_lexer": "ipython3",
   "version": "3.6.5"
  }
 },
 "nbformat": 4,
 "nbformat_minor": 2
}
