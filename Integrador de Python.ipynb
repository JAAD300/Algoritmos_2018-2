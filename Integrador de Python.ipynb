{
 "cells": [
  {
   "cell_type": "markdown",
   "metadata": {},
   "source": [
    "# Integradores de Python\n",
    "\n",
    "En el notebook anterior implementamos tres integradores, pero en la actualidad casi todos los lenguajes de programación tiene implementados algunos integradores. En este notebook revisaremos uno de los integradores que ya están códificados en Python, por ejemplo `quad`, `dblquad` y `tplquad` además de contar con integradores de sistemas de ODE, por ejemplo `ode` y `odeint` "
   ]
  },
  {
   "cell_type": "code",
   "execution_count": 1,
   "metadata": {
    "collapsed": true
   },
   "outputs": [],
   "source": [
    "from pylab import * # se importa la libreria pylab\n",
    "from scipy.integrate import * # se importa la libreria scipy.integrate\n",
    "from numpy import * # se importa numpy\n",
    "%matplotlib inline"
   ]
  },
  {
   "cell_type": "markdown",
   "metadata": {},
   "source": [
    "* ¿Qué paquetes tiene la librería `scipy` ?\n",
    "* En particular `scipy.integrate`"
   ]
  },
  {
   "cell_type": "markdown",
   "metadata": {},
   "source": [
    "## `quad` "
   ]
  },
  {
   "cell_type": "code",
   "execution_count": 2,
   "metadata": {
    "collapsed": true
   },
   "outputs": [],
   "source": [
    "import scipy.integrate"
   ]
  },
  {
   "cell_type": "code",
   "execution_count": 3,
   "metadata": {
    "collapsed": true
   },
   "outputs": [],
   "source": [
    "scipy.integrate?"
   ]
  },
  {
   "cell_type": "code",
   "execution_count": 4,
   "metadata": {
    "collapsed": true
   },
   "outputs": [],
   "source": [
    "quad?"
   ]
  },
  {
   "cell_type": "markdown",
   "metadata": {},
   "source": [
    "Comenzaremos por el primer integrador que se aparece en la documentación de `numpy`, es decir `quad` para ello integremos la siguiente función: $f(x) = \\alpha x^2 + \\beta$, de $a$ a $b$,es decir, $\\displaystyle \\int_{a} ^{b} \\alpha x^2 + \\beta dx $ con $a = 0$ , $b=2$ y $\\alpha = 1$ y $\\beta = 3$"
   ]
  },
  {
   "cell_type": "markdown",
   "metadata": {},
   "source": [
    "Definamos $f(x) = \\alpha x^2 + \\beta$"
   ]
  },
  {
   "cell_type": "code",
   "execution_count": 5,
   "metadata": {
    "collapsed": true
   },
   "outputs": [],
   "source": [
    "def f(x,a,b):\n",
    "    return a*x**2 + b"
   ]
  },
  {
   "cell_type": "code",
   "execution_count": 6,
   "metadata": {},
   "outputs": [
    {
     "data": {
      "text/plain": [
       "7"
      ]
     },
     "execution_count": 6,
     "metadata": {},
     "output_type": "execute_result"
    }
   ],
   "source": [
    "f(2,1,3)"
   ]
  },
  {
   "cell_type": "markdown",
   "metadata": {},
   "source": [
    "Ahora integremos dicha función con los límites ya mencionados "
   ]
  },
  {
   "cell_type": "code",
   "execution_count": 7,
   "metadata": {},
   "outputs": [
    {
     "data": {
      "text/plain": [
       "(8.666666666666668, 9.621932880084691e-14)"
      ]
     },
     "execution_count": 7,
     "metadata": {},
     "output_type": "execute_result"
    }
   ],
   "source": [
    "quad(f, 0.0, 2.0, (1.0, 3.0,))"
   ]
  },
  {
   "cell_type": "markdown",
   "metadata": {},
   "source": [
    "* ¿Qué es la salida del integrador?\n",
    "* ¿Cuál es la solución analítica de dicha integral?\n",
    "* ¿El resultado es correcto?"
   ]
  },
  {
   "cell_type": "code",
   "execution_count": 8,
   "metadata": {},
   "outputs": [
    {
     "data": {
      "text/plain": [
       "8.666666666666666"
      ]
     },
     "execution_count": 8,
     "metadata": {},
     "output_type": "execute_result"
    }
   ],
   "source": [
    "26.0/3.0"
   ]
  },
  {
   "cell_type": "markdown",
   "metadata": {},
   "source": [
    "Ahora integraremos una gaussiana de menos infinito  a infinito, es decir:\n",
    "$$\\displaystyle \\int_{-\\infty} ^{\\infty} \\exp(-x^2) dx $$\n",
    "\n",
    "\n",
    "* Escriba la solución analítica de dicha integral"
   ]
  },
  {
   "cell_type": "code",
   "execution_count": 9,
   "metadata": {
    "collapsed": true
   },
   "outputs": [],
   "source": [
    "### Definimos la gaussiana\n",
    "def g(x):\n",
    "    return exp(-x**2)"
   ]
  },
  {
   "cell_type": "code",
   "execution_count": 10,
   "metadata": {},
   "outputs": [
    {
     "data": {
      "text/plain": [
       "(1.7724538509055159, 1.4202636780944923e-08)"
      ]
     },
     "execution_count": 10,
     "metadata": {},
     "output_type": "execute_result"
    }
   ],
   "source": [
    "### Integramos dicha función\n",
    "quad(g, -inf, inf)"
   ]
  },
  {
   "cell_type": "markdown",
   "metadata": {},
   "source": [
    "* ¿El resultado es correcto?\n",
    "* grafique la siguiente función $${\\displaystyle f(x, \\mu ,\\sigma ^{2}, \\alpha)=\\alpha \\exp \\left({-{\\frac {(x-\\mu )^{2}}{2\\sigma ^{2}}}}\\right)} $$ para distintos valores de $\\alpha > 0$, $\\mu$ y $\\sigma > -1$\n",
    "\n",
    "* ¿Quá pasa si $\\alpha =\\dfrac{1}{\\sigma \\sqrt{2\\pi}}$? \n",
    "* Integre dicha función de manera analítica y numericamente con `quad` de menos infinito a infinito\n",
    "\n"
   ]
  },
  {
   "cell_type": "markdown",
   "metadata": {
    "collapsed": true
   },
   "source": [
    "## `dblquad` \n",
    "\n",
    "Consulte la documentación de `dblquad` e integre de numericamente y analiticamenta los siguiente:\n",
    "\n",
    "* Vemos que en la documentación se integra $\\displaystyle \\int_{0}^{1/2} \\displaystyle \\int_{0}^{1-2y} xy\\,dy\\,dx = \\dfrac{1}{96}$\n",
    "* $ \\displaystyle \\int_{-1}^{1} \\displaystyle \\int_{0}^{1} x^2 + y^2 \\,dx \\,dy$ \n",
    "* $\\displaystyle \\int_{0}^{1} \\displaystyle \\int_{0}^{\\sqrt{1-x^2}} \\sqrt{1-y^2}\\,dy\\,dx$\n"
   ]
  },
  {
   "cell_type": "code",
   "execution_count": 16,
   "metadata": {},
   "outputs": [
    {
     "data": {
      "text/plain": [
       "(0.010416666666666668, 4.101620128472366e-16)"
      ]
     },
     "execution_count": 16,
     "metadata": {},
     "output_type": "execute_result"
    }
   ],
   "source": [
    "dblquad(lambda x, y: x*y, 0, 0.5, lambda x: 0, lambda x: 1-2*x)"
   ]
  },
  {
   "cell_type": "code",
   "execution_count": 17,
   "metadata": {},
   "outputs": [
    {
     "data": {
      "text/plain": [
       "0.010416666666666666"
      ]
     },
     "execution_count": 17,
     "metadata": {},
     "output_type": "execute_result"
    }
   ],
   "source": [
    "1.0/96"
   ]
  },
  {
   "cell_type": "markdown",
   "metadata": {},
   "source": [
    "* Investigue que es `lambda`"
   ]
  },
  {
   "cell_type": "markdown",
   "metadata": {},
   "source": [
    "## `tplquad` \n",
    "\n",
    "Realice lo mismo para`tplquad` e integre de numericamente y analiticamenta las siguientes:\n",
    "\n",
    "* $ \\displaystyle \\int_{0}^{1/3} \\displaystyle \\int_{-1/2}^{0} \\displaystyle \\int_{0}^{1} (x + 2y + 3z)^2 \\,dx \\,dy\\,dz$ \n",
    "* $ \\displaystyle \\int_{-1}^{1} \\displaystyle \\int_{-\\sqrt{1-x^2}}^{\\sqrt{1-x^2}} \\displaystyle \\int_{-\\sqrt{1-x^2-y^2}}^{\\sqrt{1-x^2-y^2}}  \\,dx \\,dy\\,dz$ "
   ]
  },
  {
   "cell_type": "code",
   "execution_count": null,
   "metadata": {
    "collapsed": true
   },
   "outputs": [],
   "source": []
  }
 ],
 "metadata": {
  "kernelspec": {
   "display_name": "Python 2",
   "language": "python",
   "name": "python2"
  },
  "language_info": {
   "codemirror_mode": {
    "name": "ipython",
    "version": 2
   },
   "file_extension": ".py",
   "mimetype": "text/x-python",
   "name": "python",
   "nbconvert_exporter": "python",
   "pygments_lexer": "ipython2",
   "version": "2.7.14"
  }
 },
 "nbformat": 4,
 "nbformat_minor": 2
}
